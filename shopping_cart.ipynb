{
  "nbformat": 4,
  "nbformat_minor": 0,
  "metadata": {
    "colab": {
      "provenance": []
    },
    "kernelspec": {
      "name": "python3",
      "display_name": "Python 3"
    },
    "language_info": {
      "name": "python"
    }
  },
  "cells": [
    {
      "cell_type": "markdown",
      "source": [
        "##Create a class Product with discount\n",
        "\n",
        "\n",
        "\n",
        "\n",
        "\n",
        "\n"
      ],
      "metadata": {
        "id": "EfYWXzYP2Qnn"
      }
    },
    {
      "cell_type": "code",
      "source": [
        "\n",
        "class Product:\n",
        "    def __init__(self, name, price, available=True, discount_percentage=0):\n",
        "        self.name = name\n",
        "        self.price = price\n",
        "        self.available = available\n",
        "        self.discount_percentage = discount_percentage\n",
        "\n",
        "    def discount(self):\n",
        "        if self.discount_percentage > 0:\n",
        "            discounted_price = self.price * (1 - self.discount_percentage / 100)\n",
        "            return discounted_price\n",
        "        else:\n",
        "            return self.price\n",
        "\n",
        "    def display_products(self):\n",
        "        if self.discount_percentage > 0:\n",
        "            return f\"{self.name} - INR {self.price} ({'Available' if self.available else 'Out of stock'}) - {self.discount_percentage}% off\"\n",
        "        else:\n",
        "            return f\"{self.name} - INR {self.price} ({'Available' if self.available else 'Out of stock'})\"\n",
        "\n",
        "# Define the CartItem class\n",
        "class CartItem:\n",
        "    def __init__(self, product, quantity):\n",
        "        self.product = product\n",
        "        self.quantity = quantity\n",
        "\n",
        "    def calculate_item_total(self):\n",
        "        return self.product.discount() * self.quantity\n",
        "\n",
        "    def cart_items(self):\n",
        "        return f\"{self.product.name} - Quantity: {self.quantity} - Total: INR {self.calculate_item_total()}\"\n",
        "\n"
      ],
      "metadata": {
        "id": "Ol2WehgWJNlK"
      },
      "execution_count": null,
      "outputs": []
    },
    {
      "cell_type": "markdown",
      "source": [
        "##create a class cart"
      ],
      "metadata": {
        "id": "a9XLQYoS1t7K"
      }
    },
    {
      "cell_type": "code",
      "source": [
        "\n",
        "class Cart:\n",
        "    def __init__(self):\n",
        "        self.items = []\n",
        "\n",
        "    def add_cart(self, product, quantity):\n",
        "\n",
        "        if product.available:\n",
        "            item = CartItem(product, quantity)\n",
        "            self.items.append(item)\n",
        "\n",
        "    def update_item(self, product_name, new_quantity):\n",
        "        for item in self.items:\n",
        "            if item.product.name == product_name:\n",
        "                item.quantity = new_quantity\n",
        "                return\n",
        "\n",
        "    def remove_item(self, product_name, quantity_to_remove):\n",
        "        for item in self.items:\n",
        "            if item.product.name == product_name:\n",
        "                if item.quantity <= quantity_to_remove:\n",
        "                    self.items.remove(item)\n",
        "                else:\n",
        "                    item.quantity -= quantity_to_remove\n",
        "                return\n",
        "\n",
        "    def calc_total_bill(self):\n",
        "        total = sum(item.calculate_item_total() for item in self.items)\n",
        "        return total\n",
        "\n",
        "    def cart_contents(self):\n",
        "        return [item.cart_items() for item in self.items]"
      ],
      "metadata": {
        "id": "Fq_noxBdJiTq"
      },
      "execution_count": null,
      "outputs": []
    },
    {
      "cell_type": "markdown",
      "source": [
        "##main function to demonstrate usage"
      ],
      "metadata": {
        "id": "reCZqEqD_SIR"
      }
    },
    {
      "cell_type": "code",
      "source": [
        "\n",
        "if __name__ == \"__main__\":\n",
        "    laptop = Product(\"Laptop\", 1000, discount_percentage=10)\n",
        "    headphones = Product(\"Headphones\", 50,discount_percentage=15)\n",
        "    TV = Product(\"TV\",2000,discount_percentage=5)\n",
        "    mobile_phone = Product(\"mobile_phone\",1500,discount_percentage=7)\n",
        "\n",
        "    cart = Cart()\n",
        "\n",
        "    cart.add_cart(laptop, 2)\n",
        "    cart.add_cart(headphones, 2)\n",
        "    cart.add_cart(TV, 1)\n",
        "    cart.add_cart(mobile_phone, 3)\n",
        "\n",
        "    cart.update_item(\"Laptop\", 3)\n",
        "    cart.update_item(\"TV\", 1)\n",
        "    cart.remove_item(\"Headphones\",1)\n",
        "    cart.remove_item(\"mobile_phone\",1)\n",
        "\n",
        "\n",
        "\n",
        "    total_bill = cart.calc_total_bill()\n",
        "\n",
        "    print(\"Products:\")\n",
        "    print(laptop.display_products())\n",
        "    print(headphones.display_products())\n",
        "    print(TV.display_products())\n",
        "    print(mobile_phone.display_products())\n",
        "\n",
        "    print(\"\\nCart Contents:\")\n",
        "    cart_contents = cart.cart_contents()\n",
        "    for item in cart_contents:\n",
        "        print(item)\n",
        "\n",
        "    print(\"\\nTotal Bill:\", f\"Your total bill is INR {total_bill}.\")"
      ],
      "metadata": {
        "colab": {
          "base_uri": "https://localhost:8080/"
        },
        "id": "OhbANP3MJjWF",
        "outputId": "d078a560-67c6-4a2b-88af-fd82c8bf78ad"
      },
      "execution_count": null,
      "outputs": [
        {
          "output_type": "stream",
          "name": "stdout",
          "text": [
            "Products:\n",
            "Laptop - INR 1000 (Available) - 10% off\n",
            "Headphones - INR 50 (Available) - 15% off\n",
            "TV - INR 2000 (Available) - 5% off\n",
            "mobile_phone - INR 1500 (Available) - 7% off\n",
            "\n",
            "Cart Contents:\n",
            "Laptop - Quantity: 3 - Total: INR 2700.0\n",
            "Headphones - Quantity: 1 - Total: INR 42.5\n",
            "TV - Quantity: 1 - Total: INR 1900.0\n",
            "mobile_phone - Quantity: 2 - Total: INR 2790.0\n",
            "\n",
            "Total Bill: Your total bill is INR 7432.5.\n"
          ]
        }
      ]
    }
  ]
}